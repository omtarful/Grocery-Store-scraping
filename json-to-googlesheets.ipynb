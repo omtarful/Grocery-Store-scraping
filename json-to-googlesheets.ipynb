{
 "cells": [
  {
   "cell_type": "code",
   "execution_count": null,
   "metadata": {},
   "outputs": [],
   "source": []
  }
 ],
 "metadata": {
  "kernelspec": {
   "display_name": "Python 3.9.0 ('venv': venv)",
   "language": "python",
   "name": "python3"
  },
  "language_info": {
   "name": "python",
   "version": "3.9.0"
  },
  "orig_nbformat": 4,
  "vscode": {
   "interpreter": {
    "hash": "3bef396180c5f58f0880a08be4f973bb0b07e7748929987729d80d97b201ff1f"
   }
  }
 },
 "nbformat": 4,
 "nbformat_minor": 2
}
